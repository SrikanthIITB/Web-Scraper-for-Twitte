{
  "nbformat": 4,
  "nbformat_minor": 0,
  "metadata": {
    "colab": {
      "name": "Tweeter_FlashCards.ipynb",
      "provenance": []
    },
    "kernelspec": {
      "name": "python3",
      "display_name": "Python 3"
    },
    "accelerator": "GPU"
  },
  "cells": [
    {
      "cell_type": "code",
      "metadata": {
        "id": "7mTWpAf2-5Zb",
        "colab_type": "code",
        "colab": {
          "base_uri": "https://localhost:8080/",
          "height": 52
        },
        "outputId": "ffb22964-c257-4dd2-93db-bc413e20e15e"
      },
      "source": [
        "%load_ext autoreload\n",
        "%autoreload 2\n",
        "\n",
        "%matplotlib inline\n",
        "\n",
        "\n",
        "import pandas as pd\n",
        "import requests\n",
        "import re"
      ],
      "execution_count": null,
      "outputs": [
        {
          "output_type": "stream",
          "text": [
            "The autoreload extension is already loaded. To reload it, use:\n",
            "  %reload_ext autoreload\n"
          ],
          "name": "stdout"
        }
      ]
    },
    {
      "cell_type": "code",
      "metadata": {
        "id": "wFGrx1pP_HYx",
        "colab_type": "code",
        "colab": {}
      },
      "source": [
        "import codecs, json\n"
      ],
      "execution_count": null,
      "outputs": []
    },
    {
      "cell_type": "code",
      "metadata": {
        "id": "fq6rCn3y_Mur",
        "colab_type": "code",
        "colab": {}
      },
      "source": [
        "with codecs.open('/content/mlflashcards_tweets_large.json', 'r', 'utf-8') as f:\n",
        "    tweets = json.load(f, encoding='utf-8')"
      ],
      "execution_count": null,
      "outputs": []
    },
    {
      "cell_type": "code",
      "metadata": {
        "id": "3sWiJMkN_oF7",
        "colab_type": "code",
        "colab": {
          "base_uri": "https://localhost:8080/",
          "height": 35
        },
        "outputId": "f5fd9f00-046e-4cec-8a0b-286d609bb47c"
      },
      "source": [
        "len(tweets)\n"
      ],
      "execution_count": null,
      "outputs": [
        {
          "output_type": "execute_result",
          "data": {
            "text/plain": [
              "241"
            ]
          },
          "metadata": {
            "tags": []
          },
          "execution_count": 6
        }
      ]
    },
    {
      "cell_type": "code",
      "metadata": {
        "id": "RnsFoCkY_rPI",
        "colab_type": "code",
        "colab": {
          "base_uri": "https://localhost:8080/",
          "height": 173
        },
        "outputId": "0a6f1d9f-4189-4935-f2e7-b01ca77ef73b"
      },
      "source": [
        "t = tweets[5]\n",
        "t"
      ],
      "execution_count": null,
      "outputs": [
        {
          "output_type": "execute_result",
          "data": {
            "text/plain": [
              "{'fullname': 'Chris Albon',\n",
              " 'id': '960977759915851776',\n",
              " 'likes': '6',\n",
              " 'replies': '2',\n",
              " 'retweets': '1',\n",
              " 'text': 'Alpha In Ridge Regression https://machinelearningflashcards.com\\xa0pic.twitter.com/DFdSKO7DiH',\n",
              " 'timestamp': '2018-02-06T20:45:26',\n",
              " 'url': '/chrisalbon/status/960977759915851776',\n",
              " 'user': 'chrisalbon'}"
            ]
          },
          "metadata": {
            "tags": []
          },
          "execution_count": 8
        }
      ]
    },
    {
      "cell_type": "code",
      "metadata": {
        "id": "fgQl8TGV_2Et",
        "colab_type": "code",
        "colab": {}
      },
      "source": [
        "def get_tweet_url(tweet):\n",
        "    return 'https://twitter.com' + tweet['url']"
      ],
      "execution_count": null,
      "outputs": []
    },
    {
      "cell_type": "code",
      "metadata": {
        "id": "vKuxVKiF_6jz",
        "colab_type": "code",
        "colab": {
          "base_uri": "https://localhost:8080/",
          "height": 35
        },
        "outputId": "11534d89-7675-4019-dda5-7efdb459380c"
      },
      "source": [
        "tweet_url = get_tweet_url(t)\n",
        "print(tweet_url)"
      ],
      "execution_count": null,
      "outputs": [
        {
          "output_type": "stream",
          "text": [
            "https://twitter.com/chrisalbon/status/960977759915851776\n"
          ],
          "name": "stdout"
        }
      ]
    },
    {
      "cell_type": "code",
      "metadata": {
        "id": "Dq02JT6e__Ht",
        "colab_type": "code",
        "colab": {}
      },
      "source": [
        "def get_tweet_text(tweet):\n",
        "    text = tweet['text']\n",
        "    res = re.search('(.*) https.*', text)\n",
        "    if res:\n",
        "        text = res.group(1)\n",
        "    else:\n",
        "        text = None\n",
        "    return text\n"
      ],
      "execution_count": null,
      "outputs": []
    },
    {
      "cell_type": "code",
      "metadata": {
        "id": "aU9mcyoHACqQ",
        "colab_type": "code",
        "colab": {
          "base_uri": "https://localhost:8080/",
          "height": 35
        },
        "outputId": "ad2f2772-d6cf-4158-e17a-d8bbb7d2dba1"
      },
      "source": [
        "get_tweet_text(t)\n"
      ],
      "execution_count": null,
      "outputs": [
        {
          "output_type": "execute_result",
          "data": {
            "application/vnd.google.colaboratory.intrinsic+json": {
              "type": "string"
            },
            "text/plain": [
              "'Alpha In Ridge Regression'"
            ]
          },
          "metadata": {
            "tags": []
          },
          "execution_count": 12
        }
      ]
    },
    {
      "cell_type": "code",
      "metadata": {
        "id": "-tUc5gZQAGVg",
        "colab_type": "code",
        "colab": {}
      },
      "source": [
        "rows = []\n",
        "for tweet in tweets[:]:\n",
        "    row = {\"id\": tweet['id'],\n",
        "            \"likes\": tweet['likes'],\n",
        "            \"replies\": tweet['replies'],\n",
        "            \"retweets\": tweet['retweets'],\n",
        "            \"timestamp\": tweet['timestamp'],\n",
        "            \"url\": get_tweet_url(tweet),\n",
        "            \"text\": get_tweet_text(tweet)}\n",
        "    rows.append(row)"
      ],
      "execution_count": null,
      "outputs": []
    },
    {
      "cell_type": "code",
      "metadata": {
        "id": "8mUpYbOhAKEA",
        "colab_type": "code",
        "colab": {
          "base_uri": "https://localhost:8080/",
          "height": 35
        },
        "outputId": "829aeb95-6da1-4baa-bfd7-2a25576bb8b0"
      },
      "source": [
        "print(len(rows))\n",
        "#rows"
      ],
      "execution_count": null,
      "outputs": [
        {
          "output_type": "stream",
          "text": [
            "241\n"
          ],
          "name": "stdout"
        }
      ]
    },
    {
      "cell_type": "code",
      "metadata": {
        "id": "aty0U9BGAPK_",
        "colab_type": "code",
        "colab": {
          "base_uri": "https://localhost:8080/",
          "height": 306
        },
        "outputId": "cf6a4be9-abad-401e-c7b9-d03d942bb08a"
      },
      "source": [
        "df = pd.DataFrame.from_dict(rows)\n",
        "df.head()\n"
      ],
      "execution_count": null,
      "outputs": [
        {
          "output_type": "execute_result",
          "data": {
            "text/html": [
              "<div>\n",
              "<style scoped>\n",
              "    .dataframe tbody tr th:only-of-type {\n",
              "        vertical-align: middle;\n",
              "    }\n",
              "\n",
              "    .dataframe tbody tr th {\n",
              "        vertical-align: top;\n",
              "    }\n",
              "\n",
              "    .dataframe thead th {\n",
              "        text-align: right;\n",
              "    }\n",
              "</style>\n",
              "<table border=\"1\" class=\"dataframe\">\n",
              "  <thead>\n",
              "    <tr style=\"text-align: right;\">\n",
              "      <th></th>\n",
              "      <th>id</th>\n",
              "      <th>likes</th>\n",
              "      <th>replies</th>\n",
              "      <th>retweets</th>\n",
              "      <th>timestamp</th>\n",
              "      <th>url</th>\n",
              "      <th>text</th>\n",
              "    </tr>\n",
              "  </thead>\n",
              "  <tbody>\n",
              "    <tr>\n",
              "      <th>0</th>\n",
              "      <td>892802102702911488</td>\n",
              "      <td>1</td>\n",
              "      <td>0</td>\n",
              "      <td>1</td>\n",
              "      <td>2017-08-02T17:39:43</td>\n",
              "      <td>https://twitter.com/chrisalbon/status/89280210...</td>\n",
              "      <td>None</td>\n",
              "    </tr>\n",
              "    <tr>\n",
              "      <th>1</th>\n",
              "      <td>961698946698567680</td>\n",
              "      <td>5</td>\n",
              "      <td>0</td>\n",
              "      <td>0</td>\n",
              "      <td>2018-02-08T20:31:11</td>\n",
              "      <td>https://twitter.com/chrisalbon/status/96169894...</td>\n",
              "      <td>Threshold Activation</td>\n",
              "    </tr>\n",
              "    <tr>\n",
              "      <th>2</th>\n",
              "      <td>961666291189743616</td>\n",
              "      <td>23</td>\n",
              "      <td>0</td>\n",
              "      <td>5</td>\n",
              "      <td>2018-02-08T18:21:25</td>\n",
              "      <td>https://twitter.com/chrisalbon/status/96166629...</td>\n",
              "      <td>Chi-Squared</td>\n",
              "    </tr>\n",
              "    <tr>\n",
              "      <th>3</th>\n",
              "      <td>961337263299821568</td>\n",
              "      <td>28</td>\n",
              "      <td>1</td>\n",
              "      <td>4</td>\n",
              "      <td>2018-02-07T20:33:59</td>\n",
              "      <td>https://twitter.com/chrisalbon/status/96133726...</td>\n",
              "      <td>MinMax Scaling</td>\n",
              "    </tr>\n",
              "    <tr>\n",
              "      <th>4</th>\n",
              "      <td>961302907969654784</td>\n",
              "      <td>22</td>\n",
              "      <td>0</td>\n",
              "      <td>2</td>\n",
              "      <td>2018-02-07T18:17:28</td>\n",
              "      <td>https://twitter.com/chrisalbon/status/96130290...</td>\n",
              "      <td>Probability Density Function</td>\n",
              "    </tr>\n",
              "  </tbody>\n",
              "</table>\n",
              "</div>"
            ],
            "text/plain": [
              "                   id  ...                          text\n",
              "0  892802102702911488  ...                          None\n",
              "1  961698946698567680  ...          Threshold Activation\n",
              "2  961666291189743616  ...                   Chi-Squared\n",
              "3  961337263299821568  ...                MinMax Scaling\n",
              "4  961302907969654784  ...  Probability Density Function\n",
              "\n",
              "[5 rows x 7 columns]"
            ]
          },
          "metadata": {
            "tags": []
          },
          "execution_count": 15
        }
      ]
    },
    {
      "cell_type": "code",
      "metadata": {
        "id": "eEeD90epAgnd",
        "colab_type": "code",
        "colab": {}
      },
      "source": [
        "def get_img_url(tweet_url):\n",
        "    page_data = requests.get(tweet_url).text\n",
        "    res = re.search('data-image-url=\"(.*)\"', page_data)\n",
        "    if res:\n",
        "        img_url = res.group(1)\n",
        "    else:\n",
        "        img_url = None\n",
        "    return img_url"
      ],
      "execution_count": null,
      "outputs": []
    },
    {
      "cell_type": "code",
      "metadata": {
        "id": "NQ37ZsVdAlwY",
        "colab_type": "code",
        "colab": {}
      },
      "source": [
        "get_img_url(tweet_url)\n",
        "df['img_url'] = [get_img_url(tweet_url)  for tweet_url in df.url]\n",
        "df.tail()"
      ],
      "execution_count": null,
      "outputs": []
    },
    {
      "cell_type": "code",
      "metadata": {
        "id": "Ud4YQei5Av73",
        "colab_type": "code",
        "colab": {
          "base_uri": "https://localhost:8080/",
          "height": 35
        },
        "outputId": "9285d44f-2c29-4fc0-dbdf-8e07d1c3d5fb"
      },
      "source": [
        "df.to_csv(\"chrisalbon_mlflashcards.csv\", index=False)\n",
        "img_url = 'https://pbs.twimg.com/media/DGPcXPAVwAAfbqV.jpg'\n",
        "img_data = requests.get(img_url).content\n",
        "with open('test.png', 'wb') as handler:\n",
        "    handler.write(img_data)\n",
        "from IPython.display import Image\n",
        "Image(\"test.png\")"
      ],
      "execution_count": null,
      "outputs": [
        {
          "output_type": "execute_result",
          "data": {
            "image/png": "\n",
            "text/plain": [
              "<IPython.core.display.Image object>"
            ]
          },
          "metadata": {
            "tags": []
          },
          "execution_count": 23
        }
      ]
    },
    {
      "cell_type": "code",
      "metadata": {
        "id": "ukyRPlLBFIov",
        "colab_type": "code",
        "colab": {}
      },
      "source": [
        "\n",
        "import requests\n",
        "import tweepy\n",
        "import re\n",
        "import os"
      ],
      "execution_count": null,
      "outputs": []
    },
    {
      "cell_type": "code",
      "metadata": {
        "id": "iVLq6dkqIKJR",
        "colab_type": "code",
        "colab": {}
      },
      "source": [
        "auth = tweepy.OAuthHandler('3nVuSoBZnx6U4vzUxf5w','Bcs59EFbbsdF6Sl9Ng71smgStWEGwXXKSjYvPVt7qys')\n",
        "# Construct the API instance\n",
        "api = tweepy.API(auth)\n",
        "\n",
        "# query parameter excludes the intentional photo to dirty the data\n",
        "params = {'q': '-\"are%20-being%20-made\"%20-\"your%20-data%20-dirty\"%20%23machinelearningflashcards-filter:retweets',\n",
        "          'from': 'chrisalbon',\n",
        "          'since': '2017-04-01', }"
      ],
      "execution_count": null,
      "outputs": []
    },
    {
      "cell_type": "code",
      "metadata": {
        "id": "OhHVu5taKu9k",
        "colab_type": "code",
        "colab": {
          "base_uri": "https://localhost:8080/",
          "height": 35
        },
        "outputId": "19273cfa-57cb-4209-c14d-6ed7ec33e9e0"
      },
      "source": [
        "ml_flashcards_json = api.search(**params)\n",
        "ml_flashcards_json"
      ],
      "execution_count": null,
      "outputs": [
        {
          "output_type": "execute_result",
          "data": {
            "text/plain": [
              "[]"
            ]
          },
          "metadata": {
            "tags": []
          },
          "execution_count": 23
        }
      ]
    },
    {
      "cell_type": "code",
      "metadata": {
        "id": "_yiy52kbLJAD",
        "colab_type": "code",
        "colab": {}
      },
      "source": [
        "media_urls = []\n",
        "titles = []\n",
        "for i in range(len(ml_flashcards_json)):\n",
        "        txt = ml_flashcards_json[i]\n",
        "        json = txt._json\n",
        "        title = re.sub(\"#\\S*\", \"\", str(json['text'])) # removes hashtag\n",
        "        title = re.sub(\"http\\S*\", \"\", title) # removes url\n",
        "        title = str(title.strip()) # strips spacing away\n",
        "        try: # KeyError is raised when there is no image attached to the tweet\n",
        "            media_url = json['entities']['media'][0]['media_url']\n",
        "            media_urls.append(media_url)\n",
        "            titles.append(title)\n",
        "        except KeyError:\n",
        "            counter = 0\n",
        "            counter += 1\n",
        "            print(\"{} tweet was not processed due to a KeyError\".format(counter))"
      ],
      "execution_count": null,
      "outputs": []
    },
    {
      "cell_type": "code",
      "metadata": {
        "id": "lBxJbzETLN2Z",
        "colab_type": "code",
        "colab": {}
      },
      "source": [
        "current_dirctory = os.getcwd()\n",
        "os.chdir(current_dirctory)\n",
        "for i in zip(media_urls, titles):\n",
        "    print(\"1\")\n",
        "    img = requests.get(i[0])\n",
        "    f = open(str(i[1]) + \".jpg\", mode='wb')\n",
        "    f.write(img.content)\n",
        "    f.close()"
      ],
      "execution_count": null,
      "outputs": []
    }
  ]
}